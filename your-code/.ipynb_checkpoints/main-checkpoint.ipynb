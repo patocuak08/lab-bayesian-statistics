{
 "cells": [
  {
   "cell_type": "markdown",
   "metadata": {},
   "source": [
    "# Intro to Bayesian Statistics Lab\n",
    "\n",
    "Complete the following set of exercises to solidify your knowledge of Bayesian statistics and Bayesian data analysis."
   ]
  },
  {
   "cell_type": "code",
   "execution_count": 14,
   "metadata": {},
   "outputs": [],
   "source": [
    "import pandas as pd\n",
    "import numpy as np\n",
    "import matplotlib.pyplot as plt"
   ]
  },
  {
   "cell_type": "markdown",
   "metadata": {},
   "source": [
    "## 1. Cookie Problem\n",
    "\n",
    "Suppose we have two bowls of cookies. Bowl 1 contains 30 vanilla cookies and 10 chocolate cookies. Bowl 2 contains 20 of each. You randomly pick one cookie out of one of the bowls, and it is vanilla. Use Bayes Theorem to calculate the probability that the vanilla cookie you picked came from Bowl 1?"
   ]
  },
  {
   "cell_type": "code",
   "execution_count": 15,
   "metadata": {},
   "outputs": [],
   "source": [
    "# priors = Probabilidad de que la galleta venga de cada tazón\n",
    "# likelihoods = Probabilidad de que la galleta sea de vainilla si la saque de cada tazon\n",
    "priors = [1/2, 1/2]\n",
    "likelihoods = [3/4, 1/2]\n",
    "#np.multiply(priors, likelihoods)=[3/4*1/2, 1/2*1/2]\n",
    "def bayes(priors, likelihoods):\n",
    "\n",
    "  #La marginal la calculamos como P(Vainilla|Tazon1)P(Tazon1) + P(Vainilla|Tazon2)P(Tazon2)\n",
    "  #Es decir sumando el producto de priors por likelihoods emtrada por entrada\n",
    "  marginal = sum(np.multiply(priors, likelihoods))\n",
    "\n",
    "  #El numerador es una lista de la forma P(Vainilla|Tazoni)P(Tazoni) que usaremos para\n",
    "  # calcular P(Tazoni|Vainilla), aunque nosotros tenemos interés específicamente en\n",
    "  # P(Tazon1|Vainilla)\n",
    "  num = np.multiply(priors, likelihoods)\n",
    "  posteriori = np.divide(num, marginal)\n",
    "  return posteriori"
   ]
  },
  {
   "cell_type": "code",
   "execution_count": 16,
   "metadata": {},
   "outputs": [
    {
     "data": {
      "text/plain": [
       "array([0.6, 0.4])"
      ]
     },
     "execution_count": 16,
     "metadata": {},
     "output_type": "execute_result"
    }
   ],
   "source": [
    "# resultado = [proba de que sea tazon 1 con galleta de vainilla, proba de que sea tazon 2 dado Vainilla]\n",
    "bayes(priors, likelihoods)"
   ]
  },
  {
   "cell_type": "markdown",
   "metadata": {},
   "source": [
    "What is the probability that it came from Bowl 2?"
   ]
  },
  {
   "cell_type": "code",
   "execution_count": 17,
   "metadata": {},
   "outputs": [],
   "source": [
    "#lA PROBABILIDAD DE QUE ME SALGA UN AGALLTEA DE VAINIALLA EN EL TAZON 1 es de 0.6 y de que me salga en el tazon 2 \n",
    "#es de 0.4\n"
   ]
  },
  {
   "cell_type": "markdown",
   "metadata": {},
   "source": [
    "What if the cookie you had picked was chocolate? What are the probabilities that the chocolate cookie came from Bowl 1 and Bowl 2 respectively?"
   ]
  },
  {
   "cell_type": "code",
   "execution_count": 18,
   "metadata": {},
   "outputs": [],
   "source": [
    "# priors = Probabilidad de que la galleta venga de cada tazón\n",
    "# likelihoods = Probabilidad de que la galleta sea de chocolate si la saque de cada tazon\n",
    "priors = [1/2, 1/2]\n",
    "likelihoods = [1/4, 1/2]\n",
    "#np.multiply(priors, likelihoods)=[1/4*1/2, 1/2*1/2]\n",
    "def bayes(priors, likelihoods):\n",
    "\n",
    "  #La marginal la calculamos como P(Chocolate|Tazon1)P(Tazon1) + P(Chocolate|Tazon2)P(Tazon2)\n",
    "  #Es decir sumando el producto de priors por likelihoods emtrada por entrada\n",
    "  marginal = sum(np.multiply(priors, likelihoods))\n",
    "\n",
    "  #El numerador es una lista de la forma P(Chocolate|Tazoni)P(Tazoni) que usaremos para\n",
    "  # calcular P(Tazoni|Chocolate), aunque nosotros tenemos interés específicamente en\n",
    "  # P(Tazon1|Chocolate)\n",
    "  num = np.multiply(priors, likelihoods)\n",
    "  posteriori = np.divide(num, marginal)\n",
    "  return posteriori"
   ]
  },
  {
   "cell_type": "code",
   "execution_count": 19,
   "metadata": {},
   "outputs": [
    {
     "data": {
      "text/plain": [
       "array([0.33333333, 0.66666667])"
      ]
     },
     "execution_count": 19,
     "metadata": {},
     "output_type": "execute_result"
    }
   ],
   "source": [
    "# resultado = [proba de que sea tazon 1 con galleta de chocolate, proba de que sea tazon 2 dado chocolate]\n",
    "bayes(priors, likelihoods)"
   ]
  },
  {
   "cell_type": "markdown",
   "metadata": {},
   "source": [
    "## 2. Candy Problem\n",
    "\n",
    "Suppose you have two bags of candies:\n",
    "\n",
    "- In Bag 1, the mix of colors is:\n",
    "    - Brown - 30%\n",
    "    - Yellow - 20%\n",
    "    - Red - 20%\n",
    "    - Green - 10%\n",
    "    - Orange - 10%\n",
    "    - Tan - 10%\n",
    "    \n",
    "- In Bag 2, the mix of colors is:\n",
    "    - Blue - 24%\n",
    "    - Green - 20%\n",
    "    - Orange - 16%\n",
    "    - Yellow - 14%\n",
    "    - Red - 13%\n",
    "    - Brown - 13%\n",
    "    \n",
    "Not knowing which bag is which, you randomly draw one candy from each bag. One is yellow and one is green. What is the probability that the yellow one came from the Bag 1?\n",
    "\n",
    "*Hint: For the likelihoods, you will need to multiply the probabilities of drawing yellow from one bag and green from the other bag and vice versa.*"
   ]
  },
  {
   "cell_type": "code",
   "execution_count": 20,
   "metadata": {},
   "outputs": [],
   "source": [
    "#AMARILLO\n",
    "# priors = Probabilidad de que la galleta venga de cada tazón\n",
    "# likelihoods = Probabilidad de que saques un caramelo amarillo de una bolsa y una verde de la otra bolsa \n",
    "bolsas = [1/2, 1/2]\n",
    "caramelos = [.20*.20,.10*.14]\n",
    "def bayes(bolsas, caramelos):\n",
    "\n",
    "  #La marginal la calculamos como P(amarillo|bolsa1)P(bolsa1) + P(amarillo|bolsa2)P(bolsa2)\n",
    "  #Es decir sumando el producto de priors por likelihoods emtrada por entrada\n",
    "  marginal = sum(np.multiply(bolsas, caramelos))\n",
    "\n",
    "  #El numerador es una lista de la forma P(amarillo|bolsai)P(bolsai) que usaremos para\n",
    "  # calcular P(bolsa1|amarillo), aunque nosotros tenemos interés específicamente en\n",
    "  # P(bolsai|amarillo)\n",
    "  num = np.multiply(bolsas, caramelos)\n",
    "  posteriori = np.divide(num, marginal)\n",
    "  return posteriori"
   ]
  },
  {
   "cell_type": "code",
   "execution_count": 21,
   "metadata": {},
   "outputs": [
    {
     "data": {
      "text/plain": [
       "array([0.74074074, 0.25925926])"
      ]
     },
     "execution_count": 21,
     "metadata": {},
     "output_type": "execute_result"
    }
   ],
   "source": [
    "# resultado = [proba de que sea bolsa 1 con caramelo amarillo, proba de que sea bolsa 2 con caramelo amarillo)\n",
    "bayes(bolsas, caramelos)"
   ]
  },
  {
   "cell_type": "markdown",
   "metadata": {},
   "source": [
    "What is the probability that the yellow candy came from Bag 2?"
   ]
  },
  {
   "cell_type": "code",
   "execution_count": 22,
   "metadata": {},
   "outputs": [],
   "source": [
    "#la probalilidad de que el caramelo amarillo sea de la bolsa 2 es de  0.25925926"
   ]
  },
  {
   "cell_type": "markdown",
   "metadata": {},
   "source": [
    "What are the probabilities that the green one came from Bag 1 and Bag 2 respectively?"
   ]
  },
  {
   "cell_type": "code",
   "execution_count": 23,
   "metadata": {},
   "outputs": [],
   "source": [
    "#VERDE\n",
    "# priors = Probabilidad de que la galleta venga de cada bolsa\n",
    "# likelihoods = Probabilidad de que saques un caramelo verde de una bolsa y una amarilla de la otra bolsa \n",
    "bolsas = [1/2, 1/2]\n",
    "caramelos = [.10*.14,.20*.20]\n",
    "def bayes(bolsas, caramelos):\n",
    "\n",
    "  #La marginal la calculamos como P(verde|bolsa1)P(bolsa1) + P(verde|bolsa2)P(bolsa2)\n",
    "  #Es decir sumando el producto de priors por likelihoods emtrada por entrada\n",
    "  marginal = sum(np.multiply(bolsas, caramelos))\n",
    "\n",
    "  #El numerador es una lista de la forma P(verde|bolsai)P(bolsai) que usaremos para\n",
    "  # calcular P(bolsa1|verde), aunque nosotros tenemos interés específicamente en\n",
    "  # P(bolsai|verde)\n",
    "  num = np.multiply(bolsas, caramelos)\n",
    "  posteriori = np.divide(num, marginal)\n",
    "  return posteriori"
   ]
  },
  {
   "cell_type": "code",
   "execution_count": 24,
   "metadata": {},
   "outputs": [
    {
     "data": {
      "text/plain": [
       "array([0.25925926, 0.74074074])"
      ]
     },
     "execution_count": 24,
     "metadata": {},
     "output_type": "execute_result"
    }
   ],
   "source": [
    "bayes(bolsas, caramelos)"
   ]
  },
  {
   "cell_type": "markdown",
   "metadata": {},
   "source": [
    "## 3. Monty Hall Problem\n",
    "\n",
    "Suppose you are a contestant on the popular game show *Let's Make a Deal*. The host of the show (Monty Hall) presents you with three doors - Door A, Door B, and Door C. He tells you that there is a sports car behind one of them and if you choose the correct one, you win the car!\n",
    "\n",
    "You select Door A, but then Monty makes things a little more interesting. He opens Door B to reveal that there is no sports car behind it and asks you if you would like to stick with your choice of Door A or switch your choice to Door C. Given this new information, what are the probabilities of you winning the car if you stick with Door A versus if you switch to Door C?"
   ]
  },
  {
   "cell_type": "code",
   "execution_count": 25,
   "metadata": {},
   "outputs": [
    {
     "ename": "SyntaxError",
     "evalue": "invalid syntax (<ipython-input-25-cb2a767430fb>, line 3)",
     "output_type": "error",
     "traceback": [
      "\u001b[0;36m  File \u001b[0;32m\"<ipython-input-25-cb2a767430fb>\"\u001b[0;36m, line \u001b[0;32m3\u001b[0m\n\u001b[0;31m    *Al empezar el juego yo tengo 33.3% de probabilidad de sacar el auto en cada una de las puertas, y el\u001b[0m\n\u001b[0m        ^\u001b[0m\n\u001b[0;31mSyntaxError\u001b[0m\u001b[0;31m:\u001b[0m invalid syntax\n"
     ]
    }
   ],
   "source": [
    "\n",
    "#### Respuesta\n",
    "\n",
    "*Al empezar el juego yo tengo 33.3% de probabilidad de sacar el auto en cada una de las puertas, y el \n",
    "usuario escoge la puerta 1 (supongamso que esta puerta está vacía)\n",
    "*Cuando el presentador abre una de las puertas, las variables cambian, donde el 33.3% se pasa a la siguiente variable\n",
    "(considerando que en este caso, una puerta tiene el carro y en la otra está vacía)\n",
    "\n",
    "En este ejemplo la probabilid de ganar es 1/3\n",
    "\n",
    "puerta 1     puerta 2     puerta 3\n",
    "33.3%        33.3%        33.3%\n",
    "\n",
    "Cambio de variables, la probabilidad de ganar es de 2/3\n",
    "\n",
    "puerta 1     puerta 2     puerta 3\n",
    "33.3%        0            33.3% + 33.3% = 66.6%\n",
    "\n",
    "\n",
    "*Por el contrario si al empezar el juego yo tengo 33.3% de probabilidad de sacar el auto en cada una de las puertas, y el usuario escoge la puerta 1 (supongamso que esta puerta contiene el auto)\n",
    "*Cuando el presentador abre una de las puertas, las variables cambian, donde el 33.3% se pasa a la siguiente variable\n",
    "(considerando que en este caso, ambas puertas están vacias)\n",
    "\n",
    "En este ejemplo la probabilidad de puerta 3 es del 1/3\n",
    "\n",
    "puerta 1     puerta 2     puerta 3\n",
    "33.3%        33.3%        33.3%\n",
    "\n",
    "Cambio de variables, la probabilidad de ganar se mantiene en 1/3 ya que las otras puertas están vacías\n",
    "\n",
    "puerta 1     puerta 2     puerta 3\n",
    "33.3%        0            33.3% + 33.3% = 66.6%\n",
    "\n",
    "** En resumen, si mantiene su elección original gana si escogió originalmente el coche (con probabilidad de 1/3), mientras que si cambia, gana si escogió originalmente una de las dos cabras (con probabilidad de 2/3). Por lo tanto, el concursante debe cambiar su elección si quiere maximizar la probabilidad de ganar el coche.\n",
    "\n"
   ]
  },
  {
   "cell_type": "markdown",
   "metadata": {},
   "source": [
    "## 4. Bayesian Analysis \n",
    "\n",
    "Suppose you work for a landscaping company, and they want to advertise their service online. They create an ad and sit back waiting for the money to roll in. On the first day, the ad sends 100 visitors to the site and 14 of them sign up for landscaping services. Create a generative model to come up with the posterior distribution and produce a visualization of what the posterior distribution would look like given the observed data."
   ]
  },
  {
   "cell_type": "code",
   "execution_count": 26,
   "metadata": {},
   "outputs": [],
   "source": [
    "n_draws = 100000\n",
    "visitantes = 100\n",
    "compradores = 14\n",
    "#no se en porcentaje cuántos van a comprar, por eso uso la uniforme, no tengo información inicial\n",
    "prior = pd.Series(np.random.uniform(0,1, size=n_draws))"
   ]
  },
  {
   "cell_type": "code",
   "execution_count": 27,
   "metadata": {},
   "outputs": [
    {
     "data": {
      "text/plain": [
       "0    0.102203\n",
       "1    0.830271\n",
       "2    0.123264\n",
       "3    0.790582\n",
       "4    0.104033\n",
       "5    0.712435\n",
       "6    0.691395\n",
       "7    0.053961\n",
       "8    0.135169\n",
       "9    0.238808\n",
       "dtype: float64"
      ]
     },
     "execution_count": 27,
     "metadata": {},
     "output_type": "execute_result"
    }
   ],
   "source": [
    "#las diferentes probabilidades de que compren\n",
    "#aqui si quiero un grupo grande, ya que al filtrar como se pierden datos necesitamos un numero grande\n",
    "\n",
    "prior[:10]"
   ]
  },
  {
   "cell_type": "code",
   "execution_count": 28,
   "metadata": {},
   "outputs": [],
   "source": [
    "#ahora hago mis simulaciones de compradores\n",
    "#binomial necesita el número de sucesos y la p (parametro - la probabilidad de que suceda)\n",
    "#yo voy a asignar una probabilidad y voya  estimar cuántos compraron\n",
    "#result como no lo asigne por default es 1\n",
    "def generative_model(param):\n",
    "    result = np.random.binomial(100, param)\n",
    "    return result"
   ]
  },
  {
   "cell_type": "code",
   "execution_count": 29,
   "metadata": {},
   "outputs": [
    {
     "data": {
      "text/plain": [
       "27"
      ]
     },
     "execution_count": 29,
     "metadata": {},
     "output_type": "execute_result"
    }
   ],
   "source": [
    "#El parametro siempre lo doy en porcentaje\n",
    "#cada que lo corra dará n+umeros diferentes auqnue sea el mismo parametro\n",
    "generative_model(.3)"
   ]
  },
  {
   "cell_type": "code",
   "execution_count": 30,
   "metadata": {},
   "outputs": [],
   "source": [
    "#realizaré mis simulaciones, generando una lista para cada auna de mi lista los que sí compraron\n",
    "compraron = list()\n",
    "for p in prior:\n",
    "    compraron.append(generative_model(p))"
   ]
  },
  {
   "cell_type": "code",
   "execution_count": 31,
   "metadata": {},
   "outputs": [
    {
     "data": {
      "text/plain": [
       "[11, 89, 15, 83, 16, 70, 67, 6, 19, 25]"
      ]
     },
     "execution_count": 31,
     "metadata": {},
     "output_type": "execute_result"
    }
   ],
   "source": [
    "#esto no estará muy alejado de los parametros dados (prior)\n",
    "compraron[:10]"
   ]
  },
  {
   "cell_type": "code",
   "execution_count": 32,
   "metadata": {},
   "outputs": [
    {
     "data": {
      "text/plain": [
       "[False, False, False, False, False, False, False, False, False, False]"
      ]
     },
     "execution_count": 32,
     "metadata": {},
     "output_type": "execute_result"
    }
   ],
   "source": [
    "# me voy a quedar con lso que si compraron en la vida real\n",
    "#es un filtro de todas las probabilidades\n",
    "#esto esta comparando lo que tengo en \"compraron\" por lo que el ultimo, mi indice 10\n",
    "#tengo 14 entonces es true\n",
    "list(map(lambda x:x==compradores, compraron))[:10]"
   ]
  },
  {
   "cell_type": "code",
   "execution_count": 33,
   "metadata": {},
   "outputs": [],
   "source": [
    "posterior = prior[list(map(lambda x:x==compradores, compraron))]"
   ]
  },
  {
   "cell_type": "code",
   "execution_count": 34,
   "metadata": {},
   "outputs": [
    {
     "data": {
      "text/plain": [
       "423    0.176301\n",
       "439    0.130908\n",
       "555    0.156690\n",
       "562    0.127617\n",
       "577    0.123272\n",
       "666    0.143084\n",
       "716    0.136127\n",
       "756    0.075451\n",
       "791    0.197458\n",
       "812    0.117382\n",
       "dtype: float64"
      ]
     },
     "execution_count": 34,
     "metadata": {},
     "output_type": "execute_result"
    }
   ],
   "source": [
    "#estso son los que sí realizaron 14 compras\n",
    "posterior[:10]"
   ]
  },
  {
   "cell_type": "code",
   "execution_count": 35,
   "metadata": {},
   "outputs": [
    {
     "data": {
      "image/png": "[encoded data removed]",
      "text/plain": [
       "<Figure size 720x360 with 1 Axes>"
      ]
     },
     "metadata": {},
     "output_type": "display_data"
    }
   ],
   "source": [
    "#aqui es como podemos ver los datos ya filtrados por lo que compraron 14\n",
    "#lo que me está diciendo es que en un dia , los visitantes entre un 10% y un 20% de los que entren me van a comprar\n",
    "plt.figure(figsize=(10,5),facecolor='w')\n",
    "posterior.hist();"
   ]
  },
  {
   "cell_type": "markdown",
   "metadata": {},
   "source": [
    "Produce a set of descriptive statistics for the posterior distribution."
   ]
  },
  {
   "cell_type": "markdown",
   "metadata": {},
   "source": [
    "What is the 90% credible interval range?"
   ]
  },
  {
   "cell_type": "code",
   "execution_count": 36,
   "metadata": {},
   "outputs": [
    {
     "name": "stdout",
     "output_type": "stream",
     "text": [
      "0.08220045948118535 | 0.22175608025386767\n",
      "0.09315940132407384 | 0.207341679963413\n"
     ]
    }
   ],
   "source": [
    "print(posterior.quantile(.025), '|', posterior.quantile(.975))\n",
    "print(posterior.quantile(.05), '|', posterior.quantile(.95))"
   ]
  },
  {
   "cell_type": "markdown",
   "metadata": {},
   "source": [
    "What is the Maximum Likelihood Estimate?"
   ]
  },
  {
   "cell_type": "code",
   "execution_count": null,
   "metadata": {},
   "outputs": [],
   "source": []
  }
 ],
 "metadata": {
  "kernelspec": {
   "display_name": "Python 3",
   "language": "python",
   "name": "python3"
  },
  "language_info": {
   "codemirror_mode": {
    "name": "ipython",
    "version": 3
   },
   "file_extension": ".py",
   "mimetype": "text/x-python",
   "name": "python",
   "nbconvert_exporter": "python",
   "pygments_lexer": "ipython3",
   "version": "3.8.5"
  }
 },
 "nbformat": 4,
 "nbformat_minor": 2
}
